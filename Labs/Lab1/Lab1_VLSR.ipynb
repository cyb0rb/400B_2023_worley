{
 "cells": [
  {
   "cell_type": "markdown",
   "metadata": {},
   "source": [
    "# In Class Lab 1\n",
    "\n",
    "### Due by 5 PM Jan 31st in your github repository 'Labs/Lab1' folder\n",
    "\n",
    "## Part A:  The Local Standard of Rest\n",
    "Proper motion of Sgr A* from Reid & Brunthaler 2004\n",
    "$\\mu = 6.379$ mas/yr \n",
    "\n",
    "Peculiar motion of the sun, $v_\\odot$ = 12.24 km/s  (Schonrich 2010)\n",
    "\n",
    "\n",
    "$v_{tan} = 4.74 \\frac{\\mu}{\\rm mas/yr} \\frac{R_o}{\\rm kpc} = V_{LSR} + v_\\odot$\n",
    "\n",
    "\n",
    "### a)\n",
    "\n",
    "Create a function called VLSR to compute the local standard of res (V$_{LSR}$).\n",
    "\n",
    "The function should take as input: the solar radius (R$_o$), the proper motion (mu)\n",
    "and the peculiar motion of the sun in the $v_\\odot$ direction.\n",
    "\n",
    "Compute V$_{LSR}$ using three different values R$_o$: \n",
    "1. Water Maser Distance for the Sun :  R$_o$ = 8.34 kpc   (Reid 2014 ApJ 783) \n",
    "2. GRAVITY Collaboration Distance for the Sun:  R$_o$ = 8.178 kpc   (Abuter+2019 A&A 625)\n",
    "3. Value for Distance to Sun listed in Sparke & Gallagher : R$_o$ = 7.9 kpc \n"
   ]
  },
  {
   "cell_type": "code",
   "execution_count": 2,
   "metadata": {},
   "outputs": [],
   "source": [
    "# Import Modules \n",
    "import numpy as np # import numpy\n",
    "import astropy.units as u # import astropy units\n",
    "from astropy import constants as const # import astropy constants"
   ]
  },
  {
   "cell_type": "code",
   "execution_count": 3,
   "metadata": {},
   "outputs": [],
   "source": [
    "def vlsr(r0, mu=6.379, pec=12.24*(u.km/u.s)):\n",
    "    \"\"\"computes velocity at the local standard of rest in km/s\n",
    "            VLSR = 4.74 * mu * r0 - pec\n",
    "        inputs:\n",
    "            r0: 'astropy quantity'\n",
    "                Distance from sun to galactic center (kpc)\n",
    "            mu: 'float'\n",
    "                Proper motion of Sgr A* (mas/yr)\n",
    "                Default is from Reid & Brunthaler 2004\n",
    "            pec: 'astropy quantity'\n",
    "                Peculiar motion of the Sun in the v direction (km/s)\n",
    "                Default is from Schonrich + 2010\n",
    "        outputs:\n",
    "            VLSR: 'astropy quantity'\n",
    "                Velocity of the local standard of rest (km/s)\n",
    "    \"\"\"\n",
    "    return 4.74 * mu * (r0/u.kpc) * (u.km/u.s) - pec\n"
   ]
  },
  {
   "cell_type": "code",
   "execution_count": 4,
   "metadata": {},
   "outputs": [],
   "source": [
    "# define distances to Galactic Center from Sun\n",
    "\n",
    "r0_reid = 8.34*u.kpc    # Distance from Reid+2014 in kpc\n",
    "r0_grav = 8.178*u.kpc   # Distance from GRAVITY collab Abuter+2019 in kpc\n",
    "r0_sg = 7.9*u.kpc       # Distance from texbook Sparke & Gallagher"
   ]
  },
  {
   "cell_type": "code",
   "execution_count": 5,
   "metadata": {},
   "outputs": [
    {
     "name": "stdout",
     "output_type": "stream",
     "text": [
      "239.932 km / s\n"
     ]
    }
   ],
   "source": [
    "# compute VLSR using r0 from reid\n",
    "vlsr_reid = vlsr(r0_reid)\n",
    "print(f'{vlsr_reid:.3f}')"
   ]
  },
  {
   "cell_type": "code",
   "execution_count": 6,
   "metadata": {},
   "outputs": [
    {
     "name": "stdout",
     "output_type": "stream",
     "text": [
      "235.034 km / s\n"
     ]
    }
   ],
   "source": [
    "# compute VLSR using r0 from GRAVITY\n",
    "vlsr_grav = vlsr(r0_grav)\n",
    "print(f'{vlsr_grav:.3f}')"
   ]
  },
  {
   "cell_type": "code",
   "execution_count": 7,
   "metadata": {},
   "outputs": [
    {
     "name": "stdout",
     "output_type": "stream",
     "text": [
      "226.628 km / s\n"
     ]
    }
   ],
   "source": [
    "# compute VLSR using r0 from GRAVITY\n",
    "vlsr_sg = vlsr(r0_sg)\n",
    "print(f'{vlsr_sg:.3f}')"
   ]
  },
  {
   "cell_type": "markdown",
   "metadata": {},
   "source": [
    "### b)\n",
    "\n",
    "compute the orbital period of the sun in Gyr using R$_o$ from the GRAVITY Collaboration (assume circular orbit)\n",
    "\n",
    "Note that 1 km/s $\\sim$ 1kpc/Gyr"
   ]
  },
  {
   "cell_type": "code",
   "execution_count": 8,
   "metadata": {},
   "outputs": [],
   "source": [
    "def T_orbSun(r, v):\n",
    "    \"\"\" this function computes the orbital period of the sun\n",
    "            T = 2 * pi * R / v\n",
    "        Inputs:\n",
    "            r: 'astropy quantity'\n",
    "                Distance to Galactic Center (kpc)\n",
    "            v: 'astropy quantity'\n",
    "                Velocity (of sun) in v direction (km/s)\n",
    "        Outputs:\n",
    "            T: 'astropy quantity'\n",
    "            Orbital period in Gyr\n",
    "    \"\"\"\n",
    "    v_kpcGyr = v.to(u.kpc / u.Gyr)   # converting v from km/s to kpc/Gyr\n",
    "    T = 2 * np.pi * r / v_kpcGyr\n",
    "    return T"
   ]
  },
  {
   "cell_type": "code",
   "execution_count": 9,
   "metadata": {},
   "outputs": [],
   "source": [
    "# velocity of sun = vlsr + peculiar\n",
    "v_pec = 12.24 * u.km / u.s\n",
    "v_sun = vlsr_grav + v_pec"
   ]
  },
  {
   "cell_type": "code",
   "execution_count": 10,
   "metadata": {},
   "outputs": [
    {
     "name": "stdout",
     "output_type": "stream",
     "text": [
      "0.20318680562272234 Gyr\n"
     ]
    }
   ],
   "source": [
    "# compute orbital period of sun w/ r0 from grav collab\n",
    "T_grav = T_orbSun(r0_grav, v_sun)\n",
    "print(T_grav)"
   ]
  },
  {
   "cell_type": "markdown",
   "metadata": {},
   "source": [
    "### c)\n",
    "\n",
    "Compute the number of rotations about the GC over the age of the universe (13.8 Gyr)"
   ]
  },
  {
   "cell_type": "code",
   "execution_count": 11,
   "metadata": {},
   "outputs": [
    {
     "name": "stdout",
     "output_type": "stream",
     "text": [
      "67.91779593023313\n"
     ]
    }
   ],
   "source": [
    "# age of universe / orbital period\n",
    "age = 13.8 * u.Gyr  # age of universe\n",
    "print(age/T_grav)"
   ]
  },
  {
   "attachments": {},
   "cell_type": "markdown",
   "metadata": {},
   "source": [
    "## Part B  Dark Matter Density Profiles\n",
    "\n",
    "### a)\n",
    "Try out Fitting Rotation Curves \n",
    "[here](http://wittman.physics.ucdavis.edu/Animations/RotationCurve/GalacticRotation.html)\n",
    "\n",
    "\n",
    "### b)\n",
    "\n",
    "\n",
    "In the Isothermal Sphere model, what is the mass enclosed within the solar radius ($R_o$) in units of $M_\\odot$? \n",
    "\n",
    "Recall that for the Isothermal sphere :\n",
    "$\\rho(r) = \\frac{V_{LSR}^2}{4\\pi G r^2}$\n",
    "\n",
    "Where $G$ = 4.4985e-6 $kpc^3$/$Gyr^2$/$M_\\odot$, r is in kpc and $V_{LSR}$ is in km/s\n",
    "\n",
    "What about at 260 kpc (in units of  $M_\\odot$) ? "
   ]
  },
  {
   "cell_type": "code",
   "execution_count": 12,
   "metadata": {},
   "outputs": [],
   "source": [
    "# gravitational constant in desired units\n",
    "G = const.G.to(u.kpc**3 / u.Gyr**2 / u.Msun)"
   ]
  },
  {
   "cell_type": "code",
   "execution_count": 13,
   "metadata": {},
   "outputs": [],
   "source": [
    "# density profile: rho = vlsr^2 / (4*pi*G*R^2)\n",
    "# mass = integrate rho dV\n",
    "#      = rho 4*pi*r**2 dr\n",
    "#      = vlsr^2 / (4*pi*G*R^2) * (4*pi*r**2) dr\n",
    "#      = (vlsr^2 / G) * r\n",
    "\n",
    "def mass_iso(r, vlsr):\n",
    "    \"\"\" function computes dark matter mass enclosed within a given distance assuming\n",
    "        an isothermal sphere model for dark matter\n",
    "        Inputs:\n",
    "            r: 'astropy quantity'\n",
    "                Distance to Galactic Center (kpc)\n",
    "            vlsr: 'astropy quantity'\n",
    "                velocity of local standard of rest (km/s)\n",
    "        Outputs:\n",
    "            M: 'astropy quantity'\n",
    "                mass enclosed within r (Msun)\n",
    "    \"\"\"\n",
    "    vlsr_kpcGyr = vlsr.to(u.kpc/u.Gyr)  # converting km/s to kpc/Gyr\n",
    "    M = (vlsr_kpcGyr**2 / G) * r          # mass for isothermal sphere\n",
    "    return M"
   ]
  },
  {
   "cell_type": "code",
   "execution_count": 14,
   "metadata": {},
   "outputs": [
    {
     "name": "stdout",
     "output_type": "stream",
     "text": [
      "1.05e+11 solMass\n"
     ]
    }
   ],
   "source": [
    "M_isoSun = mass_iso(r0_grav, vlsr_grav)\n",
    "print(f'{M_isoSun:.2e}')    # scientific notation"
   ]
  },
  {
   "cell_type": "code",
   "execution_count": 15,
   "metadata": {},
   "outputs": [
    {
     "name": "stdout",
     "output_type": "stream",
     "text": [
      "3.34e+12 solMass\n"
     ]
    }
   ],
   "source": [
    "# compute mass within 260 kpc\n",
    "M_iso260 = mass_iso(260*u.kpc, vlsr_grav)\n",
    "print(f'{M_iso260:.2e}')"
   ]
  },
  {
   "attachments": {},
   "cell_type": "markdown",
   "metadata": {},
   "source": [
    "## c) \n",
    "\n",
    "The Leo I satellite is one of the fastest moving satellite galaxies we know. \n",
    "\n",
    "\n",
    "It is moving with 3D velocity of magnitude: Vtot = 196 km/s at a distance of 260 kpc (Sohn 2013 ApJ 768)\n",
    "\n",
    "If we assume that Leo I is moving at the escape speed:\n",
    "\n",
    "$v_{esc}^2 = 2|\\Phi| = 2 \\int G \\frac{\\rho(r)}{r}dV $ \n",
    "\n",
    "and assuming the Milky Way is well modeled by a Hernquist Sphere with a scale radius of $a$= 30 kpc, what is the minimum mass of the Milky Way (in units of $M_\\odot$) ?  \n",
    "\n",
    "How does this compare to estimates of the mass assuming the Isothermal Sphere model at 260 kpc (from your answer above)"
   ]
  },
  {
   "cell_type": "code",
   "execution_count": 17,
   "metadata": {},
   "outputs": [],
   "source": [
    "# Potential for Hernquist profile: Phi = -GM / (r+a)\n",
    "\n",
    "# Using the potential for a Hernquist profile, eqn for escape speed becomes:\n",
    "#   v_esc**2 = 2*G*M / (r+a)\n",
    "\n",
    "# Rearrange escape speed eqn for M:\n",
    "#   M = v_esc**2 * (r+a) / (2*G)\n",
    "\n",
    "def MassFromVesc(v_esc, r, a):\n",
    "    ''' determines the total mass needed for a given escape speed assuming\n",
    "        assuming a Hernquist profile for the dark matter halo\n",
    "            M = v_esc**2 * (r+a) / (2*G)\n",
    "    Inputs:\n",
    "        v_esc: 'astropy quantity'\n",
    "            escape speed in km/s (or speed of satellite)\n",
    "        r: 'astropy quantity'\n",
    "            distance from Galactic Center (kpc)\n",
    "        a: 'astropy quantity'\n",
    "            Hernquist scale length (kpc)\n",
    "    Outputs:\n",
    "        M: 'astropy quantity'\n",
    "            total mass within r (Msun)\n",
    "    '''\n",
    "    v_esc_KpcGyr = v_esc.to(u.kpc/u.Gyr) # converting velocity to kpc/Gyr\n",
    "    M = v_esc_KpcGyr**2 * (r+a) / (2*G)\n",
    "    return M"
   ]
  },
  {
   "cell_type": "code",
   "execution_count": 18,
   "metadata": {},
   "outputs": [],
   "source": [
    "v_LeoI = 196 * u.km/u.s # speed of Leo I from Sohn+2013 ApJ 768\n",
    "a = 30 * u.kpc  # scale radius for Hernquist Halo\n",
    "r = 260 * u.kpc # galactocentric distance of Leo I"
   ]
  },
  {
   "cell_type": "code",
   "execution_count": 23,
   "metadata": {},
   "outputs": [
    {
     "name": "stdout",
     "output_type": "stream",
     "text": [
      "1295146976857.1042 solMass\n"
     ]
    }
   ],
   "source": [
    "# Compute the mass needed to keep Leo I bound\n",
    "M_LeoI = MassFromVesc(v_LeoI, r, a)\n",
    "print(M_LeoI)"
   ]
  },
  {
   "cell_type": "code",
   "execution_count": 26,
   "metadata": {},
   "outputs": [
    {
     "name": "stdout",
     "output_type": "stream",
     "text": [
      "1.30e+12 solMass\n"
     ]
    }
   ],
   "source": [
    "print(f'{M_LeoI:.2e}')"
   ]
  },
  {
   "cell_type": "code",
   "execution_count": 27,
   "metadata": {},
   "outputs": [
    {
     "data": {
      "text/latex": [
       "$2.5784204 \\; \\mathrm{}$"
      ],
      "text/plain": [
       "<Quantity 2.57842045>"
      ]
     },
     "execution_count": 27,
     "metadata": {},
     "output_type": "execute_result"
    }
   ],
   "source": [
    "M_iso260 / M_LeoI   # isothermal sphere gives larger mass at larger distances"
   ]
  }
 ],
 "metadata": {
  "kernelspec": {
   "display_name": "base",
   "language": "python",
   "name": "python3"
  },
  "language_info": {
   "codemirror_mode": {
    "name": "ipython",
    "version": 3
   },
   "file_extension": ".py",
   "mimetype": "text/x-python",
   "name": "python",
   "nbconvert_exporter": "python",
   "pygments_lexer": "ipython3",
   "version": "3.9.7"
  },
  "vscode": {
   "interpreter": {
    "hash": "2eb1468c6a6075c0d192e454bc4b9fa969ca49a3c2e12f4a93d50e2243a513f9"
   }
  }
 },
 "nbformat": 4,
 "nbformat_minor": 2
}
